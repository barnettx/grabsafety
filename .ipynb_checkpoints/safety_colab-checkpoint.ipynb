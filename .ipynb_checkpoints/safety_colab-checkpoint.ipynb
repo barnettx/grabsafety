{
 "cells": [
  {
   "cell_type": "code",
   "execution_count": 1,
   "metadata": {
    "colab": {
     "base_uri": "https://localhost:8080/",
     "height": 126
    },
    "colab_type": "code",
    "id": "8XaQt2nn42Nb",
    "outputId": "6c6ad7a3-6d42-41b5-a7ba-35fcd21a02da"
   },
   "outputs": [
    {
     "name": "stdout",
     "output_type": "stream",
     "text": [
      "Go to this URL in a browser: https://accounts.google.com/o/oauth2/auth?client_id=947318989803-6bn6qk8qdgf4n4g3pfee6491hc0brc4i.apps.googleusercontent.com&redirect_uri=urn%3Aietf%3Awg%3Aoauth%3A2.0%3Aoob&scope=email%20https%3A%2F%2Fwww.googleapis.com%2Fauth%2Fdocs.test%20https%3A%2F%2Fwww.googleapis.com%2Fauth%2Fdrive%20https%3A%2F%2Fwww.googleapis.com%2Fauth%2Fdrive.photos.readonly%20https%3A%2F%2Fwww.googleapis.com%2Fauth%2Fpeopleapi.readonly&response_type=code\n",
      "\n",
      "Enter your authorization code:\n",
      "··········\n",
      "Mounted at /content/drive\n"
     ]
    }
   ],
   "source": [
    "from google.colab import drive\n",
    "drive.mount('/content/drive', force_remount=True)"
   ]
  },
  {
   "cell_type": "code",
   "execution_count": 0,
   "metadata": {
    "colab": {},
    "colab_type": "code",
    "id": "8llBEQzd6JFQ"
   },
   "outputs": [],
   "source": [
    "import numpy as np\n",
    "import pandas as pd\n",
    "import matplotlib.pyplot as plt\n",
    "import math\n",
    "from keras.callbacks import ModelCheckpoint\n",
    "from keras.models import load_model\n",
    "from keras import backend\n",
    "from sklearn.metrics import classification_report, confusion_matrix"
   ]
  },
  {
   "cell_type": "markdown",
   "metadata": {
    "colab_type": "text",
    "id": "bZW5YoxjktBV"
   },
   "source": [
    "Checking backend"
   ]
  },
  {
   "cell_type": "code",
   "execution_count": 120,
   "metadata": {
    "colab": {
     "base_uri": "https://localhost:8080/",
     "height": 35
    },
    "colab_type": "code",
    "id": "nCUqBuBtkuBq",
    "outputId": "a3f0641f-8f77-41d8-fba3-9b1cd4b68ab1"
   },
   "outputs": [
    {
     "data": {
      "text/plain": [
       "'tensorflow'"
      ]
     },
     "execution_count": 120,
     "metadata": {
      "tags": []
     },
     "output_type": "execute_result"
    }
   ],
   "source": [
    "backend.backend()"
   ]
  },
  {
   "cell_type": "markdown",
   "metadata": {
    "colab_type": "text",
    "id": "Q5joADQkDEBN"
   },
   "source": [
    "setting random seed"
   ]
  },
  {
   "cell_type": "code",
   "execution_count": 0,
   "metadata": {
    "colab": {},
    "colab_type": "code",
    "id": "vd0WCmsrDFoE"
   },
   "outputs": [],
   "source": [
    "from numpy.random import seed\n",
    "seed(1)\n",
    "from tensorflow import set_random_seed\n",
    "set_random_seed(2)"
   ]
  },
  {
   "cell_type": "code",
   "execution_count": 0,
   "metadata": {
    "colab": {},
    "colab_type": "code",
    "id": "XJNHmcVO6NyT"
   },
   "outputs": [],
   "source": [
    "data_features = pd.DataFrame()\n",
    "for i in range(10):\n",
    "    filename = \"/content/drive/My Drive/safety/features/part-0000\"+str(i)+\"-e6120af0-10c2-4248-97c4-81baf4304e5c-c000.csv\"\n",
    "    temp_data_features = pd.read_csv(filename, header=0)\n",
    "    data_features = data_features.append(temp_data_features)"
   ]
  },
  {
   "cell_type": "code",
   "execution_count": 0,
   "metadata": {
    "colab": {},
    "colab_type": "code",
    "id": "-Kg4qb2YmnuR"
   },
   "outputs": [],
   "source": [
    "data_features.columns = ['bookingID', 'accuracy', 'bearing', \n",
    "                    'acceleration_x', 'acceleration_y', 'acceleration_z',\n",
    "                    'gyro_x', 'gyro_y', 'gyro_z',\n",
    "                    'second','speed']\n",
    "\n",
    "data_features = data_features.loc[(data_features[\"accuracy\"]<20) &\n",
    "                (data_features[\"second\"]<1e6) &\n",
    "                (data_features[\"speed\"]>0) &\n",
    "                (data_features[\"speed\"]<60)]"
   ]
  },
  {
   "cell_type": "code",
   "execution_count": 6,
   "metadata": {
    "colab": {
     "base_uri": "https://localhost:8080/",
     "height": 35
    },
    "colab_type": "code",
    "id": "pmkl8-HU6oPc",
    "outputId": "d93ecff7-e252-481c-c611-90e769e703eb"
   },
   "outputs": [
    {
     "data": {
      "text/plain": [
       "(12783185, 11)"
      ]
     },
     "execution_count": 6,
     "metadata": {
      "tags": []
     },
     "output_type": "execute_result"
    }
   ],
   "source": [
    "data_features.shape"
   ]
  },
  {
   "cell_type": "code",
   "execution_count": 0,
   "metadata": {
    "colab": {},
    "colab_type": "code",
    "id": "PQvqJ5lP601x"
   },
   "outputs": [],
   "source": [
    "filename = \"/content/drive/My Drive/safety/labels/part-00000-e9445087-aa0a-433b-a7f6-7f4c19d78ad6-c000.csv\" \n",
    "data_labels = pd.read_csv(filename,header=0)"
   ]
  },
  {
   "cell_type": "code",
   "execution_count": 0,
   "metadata": {
    "colab": {},
    "colab_type": "code",
    "id": "W1gfCsvwmukS"
   },
   "outputs": [],
   "source": [
    "data_labels = data_labels.drop_duplicates(\"bookingID\", keep=\"last\")"
   ]
  },
  {
   "cell_type": "code",
   "execution_count": 0,
   "metadata": {
    "colab": {},
    "colab_type": "code",
    "id": "_ID1ubOm6_RH"
   },
   "outputs": [],
   "source": [
    "data = pd.merge(data_features, data_labels, how=\"inner\", on=\"bookingID\")"
   ]
  },
  {
   "cell_type": "code",
   "execution_count": 0,
   "metadata": {
    "colab": {},
    "colab_type": "code",
    "id": "IEv8xg187g21"
   },
   "outputs": [],
   "source": [
    "data.sort_values([\"bookingID\",\"second\"], inplace=True)"
   ]
  },
  {
   "cell_type": "code",
   "execution_count": 0,
   "metadata": {
    "colab": {},
    "colab_type": "code",
    "id": "pgWY5a_v7t_b"
   },
   "outputs": [],
   "source": [
    "singleRide = data[data.bookingID == 0]\n",
    "\n",
    "plt.figure(figsize=(15,5))\n",
    "plt.plot(singleRide[\"second\"], singleRide[[\"acceleration_x\",\"acceleration_y\",\"acceleration_z\",\"Speed\"]])\n",
    "plt.legend(labels=list(singleRide[[\"acceleration_x\",\"acceleration_y\",\"acceleration_z\",\"Speed\"]]), loc='upper left')\n",
    "plt.title(\"acceleration\")\n",
    "plt.show()\n",
    "\n",
    "plt.figure(figsize=(15,5))\n",
    "plt.plot(singleRide[\"second\"], singleRide[[\"gyro_x\",\"gyro_y\",\"gyro_z\"]])\n",
    "plt.legend(labels=list(singleRide[[\"gyro_x\",\"gyro_y\",\"gyro_z\"]]), loc='upper left')\n",
    "plt.title(\"gyro\")\n",
    "plt.show()"
   ]
  },
  {
   "cell_type": "code",
   "execution_count": 0,
   "metadata": {
    "colab": {},
    "colab_type": "code",
    "id": "xi6EzWWv76_P"
   },
   "outputs": [],
   "source": [
    "singleRide = data[data.bookingID == 2]\n",
    "\n",
    "speed = singleRide[\"Speed\"].values\n",
    "bearing = singleRide[\"Bearing\"].values\n",
    "time = singleRide[\"second\"].values\n",
    "map_x = [0]\n",
    "map_y = [0]\n",
    "for i in range(len(speed)):\n",
    "    deltaTime = time[i] - (time[i-1] if i>0 else 0)\n",
    "    prevSpeed = (speed[i-1] if i>0 else 0)\n",
    "    distance = 0.5 * (speed[i]+prevSpeed) * deltaTime\n",
    "    bearing_rad = bearing[i]*2*math.pi/360\n",
    "    displacementX = math.sin(bearing_rad)*distance\n",
    "    displacementY = math.cos(bearing_rad)*distance\n",
    "    new_x = map_x[i] + displacementX\n",
    "    new_y = map_y[i] + displacementY\n",
    "    map_x.append(new_x)\n",
    "    map_y.append(new_y)\n",
    "plt.figure(figsize=(15,10))\n",
    "plt.plot(map_x, map_y, marker=\"o\")\n",
    "\n",
    "for i in range(len(map_x)):\n",
    "  plt.annotate(i, (map_x[i], map_y[i]))\n",
    "\n",
    "plt.show()"
   ]
  },
  {
   "cell_type": "code",
   "execution_count": 0,
   "metadata": {
    "colab": {},
    "colab_type": "code",
    "id": "C6NGDui78mtQ"
   },
   "outputs": [],
   "source": [
    "singleRide.head()"
   ]
  },
  {
   "cell_type": "markdown",
   "metadata": {
    "colab_type": "text",
    "id": "YiR_CNkqBg7c"
   },
   "source": [
    "Using sckit-learn"
   ]
  },
  {
   "cell_type": "markdown",
   "metadata": {
    "colab_type": "text",
    "id": "_aJb06CzfOx7"
   },
   "source": [
    "reduce sample size"
   ]
  },
  {
   "cell_type": "code",
   "execution_count": 0,
   "metadata": {
    "colab": {},
    "colab_type": "code",
    "id": "sVeuoWOEfSPC"
   },
   "outputs": [],
   "source": [
    "data_small = data"
   ]
  },
  {
   "cell_type": "code",
   "execution_count": 12,
   "metadata": {
    "colab": {
     "base_uri": "https://localhost:8080/",
     "height": 1124
    },
    "colab_type": "code",
    "id": "VOMZiX2kgLt9",
    "outputId": "eb9d9525-25fd-4217-a669-7cd88feda331"
   },
   "outputs": [
    {
     "data": {
      "text/plain": [
       "405     52\n",
       "210     50\n",
       "300     45\n",
       "285     43\n",
       "435     42\n",
       "270     42\n",
       "240     42\n",
       "195     41\n",
       "135     40\n",
       "479     40\n",
       "255     38\n",
       "225     38\n",
       "315     37\n",
       "476     37\n",
       "480     37\n",
       "165     35\n",
       "510     35\n",
       "326     35\n",
       "330     35\n",
       "180     35\n",
       "600     35\n",
       "120     35\n",
       "465     34\n",
       "345     34\n",
       "495     33\n",
       "444     33\n",
       "268     33\n",
       "150     33\n",
       "450     33\n",
       "460     33\n",
       "        ..\n",
       "1896     1\n",
       "55       1\n",
       "1958     1\n",
       "1445     1\n",
       "6        1\n",
       "1461     1\n",
       "1493     1\n",
       "1541     1\n",
       "1637     1\n",
       "3700     1\n",
       "1669     1\n",
       "1701     1\n",
       "1797     1\n",
       "1829     1\n",
       "1925     1\n",
       "2037     1\n",
       "2183     1\n",
       "1942     1\n",
       "2583     1\n",
       "3415     1\n",
       "1606     1\n",
       "1622     1\n",
       "1638     1\n",
       "1654     1\n",
       "1670     1\n",
       "1798     1\n",
       "1830     1\n",
       "1846     1\n",
       "1862     1\n",
       "40       1\n",
       "Name: bookingID, Length: 1772, dtype: int64"
      ]
     },
     "execution_count": 12,
     "metadata": {
      "tags": []
     },
     "output_type": "execute_result"
    }
   ],
   "source": [
    "data['bookingID'].value_counts().value_counts()."
   ]
  },
  {
   "cell_type": "code",
   "execution_count": 0,
   "metadata": {
    "colab": {},
    "colab_type": "code",
    "id": "F7eBjfqrBeel"
   },
   "outputs": [],
   "source": [
    "X = data_small[[\"bookingID\",\n",
    "      \"accuracy\",\n",
    "      \"bearing\",\n",
    "      \"acceleration_x\",\"acceleration_y\",\"acceleration_z\",\n",
    "      \"gyro_x\",\"gyro_y\",\"gyro_z\",\n",
    "      \"second\",\n",
    "      \"speed\"]]\n",
    "y = data_small[[\"label\"]]"
   ]
  },
  {
   "cell_type": "code",
   "execution_count": 0,
   "metadata": {
    "colab": {},
    "colab_type": "code",
    "id": "DS9fLrHYBpno"
   },
   "outputs": [],
   "source": [
    "from sklearn.model_selection import train_test_split\n",
    "from sklearn.linear_model import SGDClassifier\n",
    "from sklearn.model_selection import GridSearchCV"
   ]
  },
  {
   "cell_type": "code",
   "execution_count": 0,
   "metadata": {
    "colab": {},
    "colab_type": "code",
    "id": "bLuzUuu8k_T6"
   },
   "outputs": [],
   "source": []
  },
  {
   "cell_type": "code",
   "execution_count": 0,
   "metadata": {
    "colab": {},
    "colab_type": "code",
    "id": "TlsZlD26Bzn_"
   },
   "outputs": [],
   "source": [
    "X_train, X_test, y_train, y_test = train_test_split(X, y, random_state=0)"
   ]
  },
  {
   "cell_type": "markdown",
   "metadata": {
    "colab_type": "text",
    "id": "KAC-pbn4a3OA"
   },
   "source": [
    "scaling"
   ]
  },
  {
   "cell_type": "code",
   "execution_count": 0,
   "metadata": {
    "colab": {},
    "colab_type": "code",
    "id": "6RLfnp0Aa4Y5"
   },
   "outputs": [],
   "source": [
    "from sklearn.preprocessing import StandardScaler"
   ]
  },
  {
   "cell_type": "code",
   "execution_count": 0,
   "metadata": {
    "colab": {},
    "colab_type": "code",
    "id": "Ef7hRvU2bDUM"
   },
   "outputs": [],
   "source": [
    "scaler = StandardScaler().fit(X_train)"
   ]
  },
  {
   "cell_type": "code",
   "execution_count": 0,
   "metadata": {
    "colab": {},
    "colab_type": "code",
    "id": "jRLwASCbdPP1"
   },
   "outputs": [],
   "source": [
    "X_train_standardised = scaler.transform(X_train)"
   ]
  },
  {
   "cell_type": "code",
   "execution_count": 0,
   "metadata": {
    "colab": {},
    "colab_type": "code",
    "id": "LEWA9GDnoO73"
   },
   "outputs": [],
   "source": [
    "X_test_standardised = scaler.transform(X_test)"
   ]
  },
  {
   "cell_type": "code",
   "execution_count": 89,
   "metadata": {
    "colab": {
     "base_uri": "https://localhost:8080/",
     "height": 35
    },
    "colab_type": "code",
    "id": "7QN1UI8XfuUJ",
    "outputId": "0b498aa3-fafd-4424-f8a3-aaf728a774bc"
   },
   "outputs": [
    {
     "data": {
      "text/plain": [
       "(9587388, 1)"
      ]
     },
     "execution_count": 89,
     "metadata": {
      "tags": []
     },
     "output_type": "execute_result"
    }
   ],
   "source": [
    "y_train.shape"
   ]
  },
  {
   "cell_type": "markdown",
   "metadata": {
    "colab_type": "text",
    "id": "Fz0Uy_2mlFrW"
   },
   "source": [
    "trying KERAS"
   ]
  },
  {
   "cell_type": "code",
   "execution_count": 0,
   "metadata": {
    "colab": {},
    "colab_type": "code",
    "id": "-458W0I1Dj0O"
   },
   "outputs": [],
   "source": [
    "chk = ModelCheckpoint('train_model_all_data.h5', monitor='val_acc', save_best_only=True, mode='max', verbose=1)"
   ]
  },
  {
   "cell_type": "code",
   "execution_count": 91,
   "metadata": {
    "colab": {
     "base_uri": "https://localhost:8080/",
     "height": 3410
    },
    "colab_type": "code",
    "id": "f0IqCMTslG7h",
    "outputId": "39d8fe43-9cd6-48b1-eb24-81641fd11a68"
   },
   "outputs": [
    {
     "name": "stdout",
     "output_type": "stream",
     "text": [
      "Train on 9587388 samples, validate on 3195797 samples\n",
      "Epoch 1/100\n",
      " - 430s - loss: 0.5766 - acc: 0.7194 - mean_squared_error: 0.1949 - val_loss: 0.5763 - val_acc: 0.7199 - val_mean_squared_error: 0.1946\n",
      "\n",
      "Epoch 00001: val_acc improved from -inf to 0.71989, saving model to train_model_all_data.h5\n",
      "Epoch 2/100\n",
      " - 437s - loss: 0.5751 - acc: 0.7205 - mean_squared_error: 0.1943 - val_loss: 0.5739 - val_acc: 0.7207 - val_mean_squared_error: 0.1939\n",
      "\n",
      "Epoch 00002: val_acc improved from 0.71989 to 0.72074, saving model to train_model_all_data.h5\n",
      "Epoch 3/100\n",
      " - 429s - loss: 0.5749 - acc: 0.7210 - mean_squared_error: 0.1940 - val_loss: 0.5751 - val_acc: 0.7212 - val_mean_squared_error: 0.1938\n",
      "\n",
      "Epoch 00003: val_acc improved from 0.72074 to 0.72123, saving model to train_model_all_data.h5\n",
      "Epoch 4/100\n",
      " - 430s - loss: 0.5754 - acc: 0.7209 - mean_squared_error: 0.1940 - val_loss: 0.5745 - val_acc: 0.7210 - val_mean_squared_error: 0.1938\n",
      "\n",
      "Epoch 00004: val_acc did not improve from 0.72123\n",
      "Epoch 5/100\n",
      " - 432s - loss: 0.5756 - acc: 0.7208 - mean_squared_error: 0.1939 - val_loss: 0.5740 - val_acc: 0.7209 - val_mean_squared_error: 0.1937\n",
      "\n",
      "Epoch 00005: val_acc did not improve from 0.72123\n",
      "Epoch 6/100\n",
      " - 433s - loss: 0.5759 - acc: 0.7207 - mean_squared_error: 0.1939 - val_loss: 0.5737 - val_acc: 0.7196 - val_mean_squared_error: 0.1938\n",
      "\n",
      "Epoch 00006: val_acc did not improve from 0.72123\n",
      "Epoch 7/100\n",
      " - 431s - loss: 0.5762 - acc: 0.7207 - mean_squared_error: 0.1940 - val_loss: 0.5770 - val_acc: 0.7213 - val_mean_squared_error: 0.1936\n",
      "\n",
      "Epoch 00007: val_acc improved from 0.72123 to 0.72129, saving model to train_model_all_data.h5\n",
      "Epoch 8/100\n",
      " - 430s - loss: 0.5763 - acc: 0.7208 - mean_squared_error: 0.1939 - val_loss: 0.5838 - val_acc: 0.7208 - val_mean_squared_error: 0.1944\n",
      "\n",
      "Epoch 00008: val_acc did not improve from 0.72129\n",
      "Epoch 9/100\n",
      " - 429s - loss: 0.5766 - acc: 0.7207 - mean_squared_error: 0.1940 - val_loss: 0.5803 - val_acc: 0.7204 - val_mean_squared_error: 0.1943\n",
      "\n",
      "Epoch 00009: val_acc did not improve from 0.72129\n",
      "Epoch 10/100\n",
      " - 430s - loss: 0.5770 - acc: 0.7207 - mean_squared_error: 0.1940 - val_loss: 0.5752 - val_acc: 0.7209 - val_mean_squared_error: 0.1939\n",
      "\n",
      "Epoch 00010: val_acc did not improve from 0.72129\n",
      "Epoch 11/100\n",
      " - 425s - loss: 0.5777 - acc: 0.7207 - mean_squared_error: 0.1941 - val_loss: 0.5789 - val_acc: 0.7213 - val_mean_squared_error: 0.1940\n",
      "\n",
      "Epoch 00011: val_acc improved from 0.72129 to 0.72133, saving model to train_model_all_data.h5\n",
      "Epoch 12/100\n",
      " - 425s - loss: 0.5783 - acc: 0.7206 - mean_squared_error: 0.1941 - val_loss: 0.5794 - val_acc: 0.7213 - val_mean_squared_error: 0.1941\n",
      "\n",
      "Epoch 00012: val_acc improved from 0.72133 to 0.72134, saving model to train_model_all_data.h5\n",
      "Epoch 13/100\n",
      " - 425s - loss: 0.5789 - acc: 0.7206 - mean_squared_error: 0.1942 - val_loss: 0.5768 - val_acc: 0.7211 - val_mean_squared_error: 0.1938\n",
      "\n",
      "Epoch 00013: val_acc did not improve from 0.72134\n",
      "Epoch 14/100\n",
      " - 425s - loss: 0.5796 - acc: 0.7205 - mean_squared_error: 0.1942 - val_loss: 0.5838 - val_acc: 0.7214 - val_mean_squared_error: 0.1943\n",
      "\n",
      "Epoch 00014: val_acc improved from 0.72134 to 0.72140, saving model to train_model_all_data.h5\n",
      "Epoch 15/100\n",
      " - 428s - loss: 0.5803 - acc: 0.7205 - mean_squared_error: 0.1943 - val_loss: 0.5834 - val_acc: 0.7214 - val_mean_squared_error: 0.1941\n",
      "\n",
      "Epoch 00015: val_acc improved from 0.72140 to 0.72141, saving model to train_model_all_data.h5\n",
      "Epoch 16/100\n",
      " - 428s - loss: 0.5811 - acc: 0.7203 - mean_squared_error: 0.1944 - val_loss: 0.5818 - val_acc: 0.7211 - val_mean_squared_error: 0.1947\n",
      "\n",
      "Epoch 00016: val_acc did not improve from 0.72141\n",
      "Epoch 17/100\n",
      " - 426s - loss: 0.5826 - acc: 0.7201 - mean_squared_error: 0.1945 - val_loss: 0.5780 - val_acc: 0.7209 - val_mean_squared_error: 0.1938\n",
      "\n",
      "Epoch 00017: val_acc did not improve from 0.72141\n",
      "Epoch 18/100\n",
      " - 430s - loss: 0.5841 - acc: 0.7198 - mean_squared_error: 0.1946 - val_loss: 0.5780 - val_acc: 0.7202 - val_mean_squared_error: 0.1941\n",
      "\n",
      "Epoch 00018: val_acc did not improve from 0.72141\n",
      "Epoch 19/100\n",
      " - 428s - loss: 0.5863 - acc: 0.7195 - mean_squared_error: 0.1948 - val_loss: 0.5834 - val_acc: 0.7193 - val_mean_squared_error: 0.1945\n",
      "\n",
      "Epoch 00019: val_acc did not improve from 0.72141\n",
      "Epoch 20/100\n",
      " - 430s - loss: 0.5883 - acc: 0.7192 - mean_squared_error: 0.1949 - val_loss: 0.5884 - val_acc: 0.7199 - val_mean_squared_error: 0.1940\n",
      "\n",
      "Epoch 00020: val_acc did not improve from 0.72141\n",
      "Epoch 21/100\n",
      " - 433s - loss: 0.5914 - acc: 0.7185 - mean_squared_error: 0.1950 - val_loss: 0.5924 - val_acc: 0.7193 - val_mean_squared_error: 0.1950\n",
      "\n",
      "Epoch 00021: val_acc did not improve from 0.72141\n",
      "Epoch 22/100\n",
      " - 429s - loss: 0.6067 - acc: 0.7183 - mean_squared_error: 0.1951 - val_loss: 0.6172 - val_acc: 0.7180 - val_mean_squared_error: 0.1955\n",
      "\n",
      "Epoch 00022: val_acc did not improve from 0.72141\n",
      "Epoch 23/100\n",
      " - 427s - loss: 0.6359 - acc: 0.7179 - mean_squared_error: 0.1956 - val_loss: 0.6498 - val_acc: 0.7178 - val_mean_squared_error: 0.1957\n",
      "\n",
      "Epoch 00023: val_acc did not improve from 0.72141\n",
      "Epoch 24/100\n",
      " - 427s - loss: 0.6673 - acc: 0.7190 - mean_squared_error: 0.1962 - val_loss: 0.7166 - val_acc: 0.7200 - val_mean_squared_error: 0.1966\n",
      "\n",
      "Epoch 00024: val_acc did not improve from 0.72141\n",
      "Epoch 25/100\n",
      " - 427s - loss: 0.6377 - acc: 0.7192 - mean_squared_error: 0.1960 - val_loss: 0.6331 - val_acc: 0.7201 - val_mean_squared_error: 0.1951\n",
      "\n",
      "Epoch 00025: val_acc did not improve from 0.72141\n",
      "Epoch 26/100\n",
      " - 430s - loss: 0.7172 - acc: 0.7199 - mean_squared_error: 0.1970 - val_loss: 0.6704 - val_acc: 0.7205 - val_mean_squared_error: 0.1959\n",
      "\n",
      "Epoch 00026: val_acc did not improve from 0.72141\n",
      "Epoch 27/100\n",
      " - 424s - loss: 0.7451 - acc: 0.7202 - mean_squared_error: 0.1972 - val_loss: 0.7811 - val_acc: 0.7204 - val_mean_squared_error: 0.1973\n",
      "\n",
      "Epoch 00027: val_acc did not improve from 0.72141\n",
      "Epoch 28/100\n",
      " - 423s - loss: 0.7556 - acc: 0.7201 - mean_squared_error: 0.1976 - val_loss: 0.8518 - val_acc: 0.7204 - val_mean_squared_error: 0.1989\n",
      "\n",
      "Epoch 00028: val_acc did not improve from 0.72141\n",
      "Epoch 29/100\n",
      " - 424s - loss: 0.9893 - acc: 0.7200 - mean_squared_error: 0.2019 - val_loss: 1.0731 - val_acc: 0.7205 - val_mean_squared_error: 0.2030\n",
      "\n",
      "Epoch 00029: val_acc did not improve from 0.72141\n",
      "Epoch 30/100\n",
      " - 423s - loss: 1.1293 - acc: 0.7203 - mean_squared_error: 0.2045 - val_loss: 1.1750 - val_acc: 0.7206 - val_mean_squared_error: 0.2050\n",
      "\n",
      "Epoch 00030: val_acc did not improve from 0.72141\n",
      "Epoch 31/100\n",
      " - 424s - loss: 1.1865 - acc: 0.7205 - mean_squared_error: 0.2056 - val_loss: 1.1679 - val_acc: 0.7208 - val_mean_squared_error: 0.2050\n",
      "\n",
      "Epoch 00031: val_acc did not improve from 0.72141\n",
      "Epoch 32/100\n",
      " - 423s - loss: 0.8050 - acc: 0.7199 - mean_squared_error: 0.1993 - val_loss: 0.6942 - val_acc: 0.7209 - val_mean_squared_error: 0.1961\n",
      "\n",
      "Epoch 00032: val_acc did not improve from 0.72141\n",
      "Epoch 33/100\n",
      " - 422s - loss: 0.7357 - acc: 0.7205 - mean_squared_error: 0.1974 - val_loss: 0.7913 - val_acc: 0.7199 - val_mean_squared_error: 0.1984\n",
      "\n",
      "Epoch 00033: val_acc did not improve from 0.72141\n",
      "Epoch 34/100\n",
      " - 422s - loss: 0.8734 - acc: 0.7203 - mean_squared_error: 0.2001 - val_loss: 0.9757 - val_acc: 0.7204 - val_mean_squared_error: 0.2015\n",
      "\n",
      "Epoch 00034: val_acc did not improve from 0.72141\n",
      "Epoch 35/100\n",
      " - 423s - loss: 1.1066 - acc: 0.7201 - mean_squared_error: 0.2045 - val_loss: 1.2118 - val_acc: 0.7200 - val_mean_squared_error: 0.2065\n",
      "\n",
      "Epoch 00035: val_acc did not improve from 0.72141\n",
      "Epoch 36/100\n",
      " - 427s - loss: 1.3413 - acc: 0.7154 - mean_squared_error: 0.2124 - val_loss: 1.7226 - val_acc: 0.7136 - val_mean_squared_error: 0.2241\n",
      "\n",
      "Epoch 00036: val_acc did not improve from 0.72141\n",
      "Epoch 37/100\n",
      " - 433s - loss: 4.5387 - acc: 0.6951 - mean_squared_error: 0.3005 - val_loss: 4.5434 - val_acc: 0.7166 - val_mean_squared_error: 0.2829\n",
      "\n",
      "Epoch 00037: val_acc did not improve from 0.72141\n",
      "Epoch 38/100\n",
      " - 434s - loss: 4.5544 - acc: 0.7172 - mean_squared_error: 0.2828 - val_loss: 4.5418 - val_acc: 0.7180 - val_mean_squared_error: 0.2820\n",
      "\n",
      "Epoch 00038: val_acc did not improve from 0.72141\n",
      "Epoch 39/100\n",
      " - 433s - loss: 4.5422 - acc: 0.7180 - mean_squared_error: 0.2820 - val_loss: 4.5369 - val_acc: 0.7182 - val_mean_squared_error: 0.2817\n",
      "\n",
      "Epoch 00039: val_acc did not improve from 0.72141\n",
      "Epoch 40/100\n",
      " - 437s - loss: 4.5405 - acc: 0.7180 - mean_squared_error: 0.2820 - val_loss: 4.5354 - val_acc: 0.7184 - val_mean_squared_error: 0.2816\n",
      "\n",
      "Epoch 00040: val_acc did not improve from 0.72141\n",
      "Epoch 41/100\n",
      " - 438s - loss: 4.5367 - acc: 0.7183 - mean_squared_error: 0.2817 - val_loss: 4.5348 - val_acc: 0.7184 - val_mean_squared_error: 0.2816\n",
      "\n",
      "Epoch 00041: val_acc did not improve from 0.72141\n",
      "Epoch 42/100\n",
      " - 437s - loss: 4.5354 - acc: 0.7184 - mean_squared_error: 0.2816 - val_loss: 4.5437 - val_acc: 0.7177 - val_mean_squared_error: 0.2823\n",
      "\n",
      "Epoch 00042: val_acc did not improve from 0.72141\n",
      "Epoch 43/100\n"
     ]
    },
    {
     "ename": "KeyboardInterrupt",
     "evalue": "ignored",
     "output_type": "error",
     "traceback": [
      "\u001b[0;31m---------------------------------------------------------------------------\u001b[0m",
      "\u001b[0;31mKeyboardInterrupt\u001b[0m                         Traceback (most recent call last)",
      "\u001b[0;32m<ipython-input-91-6b543c8a5070>\u001b[0m in \u001b[0;36m<module>\u001b[0;34m()\u001b[0m\n\u001b[1;32m     10\u001b[0m               metrics=['accuracy','mse'])\n\u001b[1;32m     11\u001b[0m \u001b[0;34m\u001b[0m\u001b[0m\n\u001b[0;32m---> 12\u001b[0;31m \u001b[0mhistory\u001b[0m \u001b[0;34m=\u001b[0m \u001b[0mmodel\u001b[0m\u001b[0;34m.\u001b[0m\u001b[0mfit\u001b[0m\u001b[0;34m(\u001b[0m\u001b[0mX_train_standardised\u001b[0m\u001b[0;34m,\u001b[0m \u001b[0my_train\u001b[0m\u001b[0;34m.\u001b[0m\u001b[0mvalues\u001b[0m\u001b[0;34m,\u001b[0m \u001b[0mvalidation_data\u001b[0m\u001b[0;34m=\u001b[0m\u001b[0;34m(\u001b[0m\u001b[0mX_test_standardised\u001b[0m\u001b[0;34m,\u001b[0m \u001b[0my_test\u001b[0m\u001b[0;34m)\u001b[0m\u001b[0;34m,\u001b[0m \u001b[0mepochs\u001b[0m\u001b[0;34m=\u001b[0m\u001b[0;36m100\u001b[0m\u001b[0;34m,\u001b[0m \u001b[0mbatch_size\u001b[0m\u001b[0;34m=\u001b[0m\u001b[0;36m32\u001b[0m\u001b[0;34m,\u001b[0m \u001b[0mcallbacks\u001b[0m\u001b[0;34m=\u001b[0m\u001b[0;34m[\u001b[0m\u001b[0mchk\u001b[0m\u001b[0;34m]\u001b[0m\u001b[0;34m,\u001b[0m \u001b[0mverbose\u001b[0m\u001b[0;34m=\u001b[0m\u001b[0;36m2\u001b[0m\u001b[0;34m)\u001b[0m\u001b[0;34m\u001b[0m\u001b[0;34m\u001b[0m\u001b[0m\n\u001b[0m",
      "\u001b[0;32m/usr/local/lib/python3.6/dist-packages/keras/engine/training.py\u001b[0m in \u001b[0;36mfit\u001b[0;34m(self, x, y, batch_size, epochs, verbose, callbacks, validation_split, validation_data, shuffle, class_weight, sample_weight, initial_epoch, steps_per_epoch, validation_steps, **kwargs)\u001b[0m\n\u001b[1;32m   1037\u001b[0m                                         \u001b[0minitial_epoch\u001b[0m\u001b[0;34m=\u001b[0m\u001b[0minitial_epoch\u001b[0m\u001b[0;34m,\u001b[0m\u001b[0;34m\u001b[0m\u001b[0;34m\u001b[0m\u001b[0m\n\u001b[1;32m   1038\u001b[0m                                         \u001b[0msteps_per_epoch\u001b[0m\u001b[0;34m=\u001b[0m\u001b[0msteps_per_epoch\u001b[0m\u001b[0;34m,\u001b[0m\u001b[0;34m\u001b[0m\u001b[0;34m\u001b[0m\u001b[0m\n\u001b[0;32m-> 1039\u001b[0;31m                                         validation_steps=validation_steps)\n\u001b[0m\u001b[1;32m   1040\u001b[0m \u001b[0;34m\u001b[0m\u001b[0m\n\u001b[1;32m   1041\u001b[0m     def evaluate(self, x=None, y=None,\n",
      "\u001b[0;32m/usr/local/lib/python3.6/dist-packages/keras/engine/training_arrays.py\u001b[0m in \u001b[0;36mfit_loop\u001b[0;34m(model, f, ins, out_labels, batch_size, epochs, verbose, callbacks, val_f, val_ins, shuffle, callback_metrics, initial_epoch, steps_per_epoch, validation_steps)\u001b[0m\n\u001b[1;32m    193\u001b[0m                 \u001b[0mbatch_logs\u001b[0m\u001b[0;34m[\u001b[0m\u001b[0;34m'batch'\u001b[0m\u001b[0;34m]\u001b[0m \u001b[0;34m=\u001b[0m \u001b[0mbatch_index\u001b[0m\u001b[0;34m\u001b[0m\u001b[0;34m\u001b[0m\u001b[0m\n\u001b[1;32m    194\u001b[0m                 \u001b[0mbatch_logs\u001b[0m\u001b[0;34m[\u001b[0m\u001b[0;34m'size'\u001b[0m\u001b[0;34m]\u001b[0m \u001b[0;34m=\u001b[0m \u001b[0mlen\u001b[0m\u001b[0;34m(\u001b[0m\u001b[0mbatch_ids\u001b[0m\u001b[0;34m)\u001b[0m\u001b[0;34m\u001b[0m\u001b[0;34m\u001b[0m\u001b[0m\n\u001b[0;32m--> 195\u001b[0;31m                 \u001b[0mcallbacks\u001b[0m\u001b[0;34m.\u001b[0m\u001b[0mon_batch_begin\u001b[0m\u001b[0;34m(\u001b[0m\u001b[0mbatch_index\u001b[0m\u001b[0;34m,\u001b[0m \u001b[0mbatch_logs\u001b[0m\u001b[0;34m)\u001b[0m\u001b[0;34m\u001b[0m\u001b[0;34m\u001b[0m\u001b[0m\n\u001b[0m\u001b[1;32m    196\u001b[0m                 \u001b[0;32mfor\u001b[0m \u001b[0mi\u001b[0m \u001b[0;32min\u001b[0m \u001b[0mindices_for_conversion_to_dense\u001b[0m\u001b[0;34m:\u001b[0m\u001b[0;34m\u001b[0m\u001b[0;34m\u001b[0m\u001b[0m\n\u001b[1;32m    197\u001b[0m                     \u001b[0mins_batch\u001b[0m\u001b[0;34m[\u001b[0m\u001b[0mi\u001b[0m\u001b[0;34m]\u001b[0m \u001b[0;34m=\u001b[0m \u001b[0mins_batch\u001b[0m\u001b[0;34m[\u001b[0m\u001b[0mi\u001b[0m\u001b[0;34m]\u001b[0m\u001b[0;34m.\u001b[0m\u001b[0mtoarray\u001b[0m\u001b[0;34m(\u001b[0m\u001b[0;34m)\u001b[0m\u001b[0;34m\u001b[0m\u001b[0;34m\u001b[0m\u001b[0m\n",
      "\u001b[0;31mKeyboardInterrupt\u001b[0m: "
     ]
    }
   ],
   "source": [
    "from keras.models import Sequential\n",
    "from keras.layers import Dense\n",
    "model = Sequential()\n",
    "model.add(Dense(12, input_dim=11,kernel_initializer='uniform',activation='relu'))\n",
    "model.add(Dense(8,kernel_initializer='uniform',activation='relu'))\n",
    "model.add(Dense(1,kernel_initializer='uniform',activation='sigmoid'))\n",
    "\n",
    "model.compile(optimizer='rmsprop',\n",
    "              loss='binary_crossentropy',\n",
    "              metrics=['accuracy','mse'])\n",
    "\n",
    "history = model.fit(X_train_standardised, y_train.values, validation_data=(X_test_standardised, y_test), epochs=100, batch_size=32, callbacks=[chk], verbose=2)"
   ]
  },
  {
   "cell_type": "code",
   "execution_count": 0,
   "metadata": {
    "colab": {},
    "colab_type": "code",
    "id": "e1dGDodWFI0V"
   },
   "outputs": [],
   "source": [
    "saved_model = load_model('train_model_all_data.h5')"
   ]
  },
  {
   "cell_type": "code",
   "execution_count": 100,
   "metadata": {
    "colab": {
     "base_uri": "https://localhost:8080/",
     "height": 35
    },
    "colab_type": "code",
    "id": "MOHCUGQIOxrv",
    "outputId": "01eacc39-c72b-4bf5-bf1f-8baace4e21f8"
   },
   "outputs": [
    {
     "data": {
      "text/plain": [
       "['loss', 'acc', 'mean_squared_error']"
      ]
     },
     "execution_count": 100,
     "metadata": {
      "tags": []
     },
     "output_type": "execute_result"
    }
   ],
   "source": [
    "model.metrics_names"
   ]
  },
  {
   "cell_type": "code",
   "execution_count": 106,
   "metadata": {
    "colab": {
     "base_uri": "https://localhost:8080/",
     "height": 53
    },
    "colab_type": "code",
    "id": "5Se9f_Zu9y2H",
    "outputId": "e9f5526d-fc31-4472-d721-a83412c6551f"
   },
   "outputs": [
    {
     "name": "stdout",
     "output_type": "stream",
     "text": [
      "3195797/3195797 [==============================] - 79s 25us/step\n"
     ]
    },
    {
     "data": {
      "text/plain": [
       "[0.5833876934721798, 0.721412530270376, 0.19410793877640456]"
      ]
     },
     "execution_count": 106,
     "metadata": {
      "tags": []
     },
     "output_type": "execute_result"
    }
   ],
   "source": [
    "saved_model.evaluate(X_test_standardised, y_test)"
   ]
  },
  {
   "cell_type": "markdown",
   "metadata": {
    "colab_type": "text",
    "id": "dKywY3g_cDPu"
   },
   "source": [
    "saved_model: 72%\n",
    "model: "
   ]
  },
  {
   "cell_type": "code",
   "execution_count": 0,
   "metadata": {
    "colab": {},
    "colab_type": "code",
    "id": "xzgY1wnjbepZ"
   },
   "outputs": [],
   "source": [
    "y_pred = saved_model.predict_classes(X_test_standardised)"
   ]
  },
  {
   "cell_type": "code",
   "execution_count": 113,
   "metadata": {
    "colab": {
     "base_uri": "https://localhost:8080/",
     "height": 142
    },
    "colab_type": "code",
    "id": "WDH0k70gdK7u",
    "outputId": "93d09171-78e9-4cdb-97e7-6e62f3e45092"
   },
   "outputs": [
    {
     "data": {
      "text/plain": [
       "array([[0],\n",
       "       [0],\n",
       "       [0],\n",
       "       ...,\n",
       "       [0],\n",
       "       [0],\n",
       "       [0]], dtype=int32)"
      ]
     },
     "execution_count": 113,
     "metadata": {
      "tags": []
     },
     "output_type": "execute_result"
    }
   ],
   "source": [
    "y_pred"
   ]
  },
  {
   "cell_type": "code",
   "execution_count": 114,
   "metadata": {
    "colab": {
     "base_uri": "https://localhost:8080/",
     "height": 53
    },
    "colab_type": "code",
    "id": "_l-6z4bzc9k5",
    "outputId": "f5f368f1-a95e-4bc9-de93-8c3989cdfb2b"
   },
   "outputs": [
    {
     "name": "stdout",
     "output_type": "stream",
     "text": [
      "[[2189624   53823]\n",
      " [ 836486  115864]]\n"
     ]
    }
   ],
   "source": [
    "print(confusion_matrix(y_test, y_pred))"
   ]
  },
  {
   "cell_type": "code",
   "execution_count": 115,
   "metadata": {
    "colab": {
     "base_uri": "https://localhost:8080/",
     "height": 178
    },
    "colab_type": "code",
    "id": "jf9tqTUodjUS",
    "outputId": "6e95acfb-c9ec-4ddf-acda-96ef1d259f6b"
   },
   "outputs": [
    {
     "name": "stdout",
     "output_type": "stream",
     "text": [
      "              precision    recall  f1-score   support\n",
      "\n",
      "           0       0.72      0.98      0.83   2243447\n",
      "           1       0.68      0.12      0.21    952350\n",
      "\n",
      "    accuracy                           0.72   3195797\n",
      "   macro avg       0.70      0.55      0.52   3195797\n",
      "weighted avg       0.71      0.72      0.64   3195797\n",
      "\n"
     ]
    }
   ],
   "source": [
    "print(classification_report(y_test, y_pred))"
   ]
  },
  {
   "cell_type": "markdown",
   "metadata": {
    "colab_type": "text",
    "id": "7y45rB1c9_up"
   },
   "source": [
    "with validation set to X_test, y_test\n",
    "accur 81.34%\n",
    "no validation 82.78%\n",
    "68% accuracy"
   ]
  },
  {
   "cell_type": "code",
   "execution_count": 95,
   "metadata": {
    "colab": {
     "base_uri": "https://localhost:8080/",
     "height": 188
    },
    "colab_type": "code",
    "id": "x4TC0t2u7c4A",
    "outputId": "3c3b9822-1a73-488c-a094-bfaf4ad529f2"
   },
   "outputs": [
    {
     "ename": "KeyError",
     "evalue": "ignored",
     "output_type": "error",
     "traceback": [
      "\u001b[0;31m---------------------------------------------------------------------------\u001b[0m",
      "\u001b[0;31mKeyError\u001b[0m                                  Traceback (most recent call last)",
      "\u001b[0;32m<ipython-input-95-be212d35bc77>\u001b[0m in \u001b[0;36m<module>\u001b[0;34m()\u001b[0m\n\u001b[0;32m----> 1\u001b[0;31m \u001b[0mplt\u001b[0m\u001b[0;34m.\u001b[0m\u001b[0mplot\u001b[0m\u001b[0;34m(\u001b[0m\u001b[0mhistory\u001b[0m\u001b[0;34m.\u001b[0m\u001b[0mhistory\u001b[0m\u001b[0;34m[\u001b[0m\u001b[0;34m'val_acc'\u001b[0m\u001b[0;34m]\u001b[0m\u001b[0;34m,\u001b[0m \u001b[0mlabel\u001b[0m\u001b[0;34m=\u001b[0m\u001b[0;34m'train'\u001b[0m\u001b[0;34m)\u001b[0m\u001b[0;34m\u001b[0m\u001b[0;34m\u001b[0m\u001b[0m\n\u001b[0m\u001b[1;32m      2\u001b[0m \u001b[0mplt\u001b[0m\u001b[0;34m.\u001b[0m\u001b[0mshow\u001b[0m\u001b[0;34m(\u001b[0m\u001b[0;34m)\u001b[0m\u001b[0;34m\u001b[0m\u001b[0;34m\u001b[0m\u001b[0m\n",
      "\u001b[0;31mKeyError\u001b[0m: 'val_acc'"
     ]
    }
   ],
   "source": [
    "plt.plot(history.history['val_acc'], label='train')\n",
    "plt.show()"
   ]
  },
  {
   "cell_type": "code",
   "execution_count": 96,
   "metadata": {
    "colab": {
     "base_uri": "https://localhost:8080/",
     "height": 1088
    },
    "colab_type": "code",
    "id": "do-LldS3N3bl",
    "outputId": "d723027c-f517-4e08-ecd0-4617804f8f5a"
   },
   "outputs": [
    {
     "data": {
      "text/plain": [
       "{'binary_accuracy': [0.7356666666666667,\n",
       "  0.7568933333396911,\n",
       "  0.76708,\n",
       "  0.7759733333396912,\n",
       "  0.7807600000063578,\n",
       "  0.7847333333396912,\n",
       "  0.7892266666666666,\n",
       "  0.7948,\n",
       "  0.7994399999936421,\n",
       "  0.8009066666666667],\n",
       " 'loss': [0.5512829708671569,\n",
       "  0.5200139101092021,\n",
       "  0.5102407257048289,\n",
       "  0.4982565962568919,\n",
       "  0.4857482514222463,\n",
       "  0.4774596139685313,\n",
       "  0.470515038207372,\n",
       "  0.46209401168823244,\n",
       "  0.4555861202335358,\n",
       "  0.4509739920425415],\n",
       " 'mean_squared_error': [0.1847954737552007,\n",
       "  0.17161358640034993,\n",
       "  0.16734792442798616,\n",
       "  0.162271468984286,\n",
       "  0.15769497606595356,\n",
       "  0.1546275702969233,\n",
       "  0.15187023184378942,\n",
       "  0.14872185785055161,\n",
       "  0.14619705149014792,\n",
       "  0.1444358829220136],\n",
       " 'val_binary_accuracy': [0.75204,\n",
       "  0.7552,\n",
       "  0.77168,\n",
       "  0.7782,\n",
       "  0.78204,\n",
       "  0.78504,\n",
       "  0.79052,\n",
       "  0.79712,\n",
       "  0.802,\n",
       "  0.80376],\n",
       " 'val_loss': [0.5282378631877899,\n",
       "  0.5187132813167572,\n",
       "  0.5099598221302033,\n",
       "  0.493474546289444,\n",
       "  0.4851880891036987,\n",
       "  0.47481143047332763,\n",
       "  0.46633033124923706,\n",
       "  0.4570442156791687,\n",
       "  0.45192156269073486,\n",
       "  0.4466500985622406],\n",
       " 'val_mean_squared_error': [0.17529448650360108,\n",
       "  0.1712249513912201,\n",
       "  0.16681013509750367,\n",
       "  0.1607506216096878,\n",
       "  0.15752425942897796,\n",
       "  0.15354152653217315,\n",
       "  0.15053070405960084,\n",
       "  0.14688476420879365,\n",
       "  0.14497747517108917,\n",
       "  0.14295111485004425]}"
      ]
     },
     "execution_count": 96,
     "metadata": {
      "tags": []
     },
     "output_type": "execute_result"
    }
   ],
   "source": [
    "model.evaluate(X_test_st)"
   ]
  },
  {
   "cell_type": "code",
   "execution_count": 0,
   "metadata": {
    "colab": {},
    "colab_type": "code",
    "id": "ucqbOHrjtpFO"
   },
   "outputs": [],
   "source": [
    "model.save(\"model.h5\")"
   ]
  },
  {
   "cell_type": "code",
   "execution_count": 32,
   "metadata": {
    "colab": {
     "base_uri": "https://localhost:8080/",
     "height": 53
    },
    "colab_type": "code",
    "id": "6o_os3NgoKmT",
    "outputId": "def459ff-6cb2-480f-83ea-35e73feea102"
   },
   "outputs": [
    {
     "name": "stdout",
     "output_type": "stream",
     "text": [
      "25000/25000 [==============================] - 1s 21us/step\n"
     ]
    },
    {
     "data": {
      "text/plain": [
       "[0.25319444396972657, 0.88248, 0.08124124313116074]"
      ]
     },
     "execution_count": 32,
     "metadata": {
      "tags": []
     },
     "output_type": "execute_result"
    }
   ],
   "source": [
    "model.evaluate(X_test_standardised, y_test.values)"
   ]
  },
  {
   "cell_type": "markdown",
   "metadata": {
    "colab_type": "text",
    "id": "1AHUUm_cqzf0"
   },
   "source": [
    "100 epochs: acc = 87.4%\n",
    "10 epochs: acc = 83.5%\n",
    "\n",
    "100,000 lines of data\n",
    "10 epochs: acc = 73%\n",
    "100 epochs: acc 77%\n",
    "\n"
   ]
  },
  {
   "cell_type": "code",
   "execution_count": 0,
   "metadata": {
    "colab": {
     "base_uri": "https://localhost:8080/",
     "height": 170
    },
    "colab_type": "code",
    "id": "lS4eTa5ipui8",
    "outputId": "19af6af7-6617-43d1-d327-9b3fa0999ba5"
   },
   "outputs": [
    {
     "ename": "AttributeError",
     "evalue": "ignored",
     "output_type": "error",
     "traceback": [
      "\u001b[0;31m---------------------------------------------------------------------------\u001b[0m",
      "\u001b[0;31mAttributeError\u001b[0m                            Traceback (most recent call last)",
      "\u001b[0;32m<ipython-input-46-711d3442158a>\u001b[0m in \u001b[0;36m<module>\u001b[0;34m()\u001b[0m\n\u001b[0;32m----> 1\u001b[0;31m \u001b[0mmodel\u001b[0m\u001b[0;34m.\u001b[0m\u001b[0mmetric_names\u001b[0m\u001b[0;34m\u001b[0m\u001b[0;34m\u001b[0m\u001b[0m\n\u001b[0m",
      "\u001b[0;31mAttributeError\u001b[0m: 'Sequential' object has no attribute 'metric_names'"
     ]
    }
   ],
   "source": [
    "model.metric_names"
   ]
  },
  {
   "cell_type": "code",
   "execution_count": 0,
   "metadata": {
    "colab": {
     "base_uri": "https://localhost:8080/",
     "height": 249
    },
    "colab_type": "code",
    "id": "43-lh1bxliJ0",
    "outputId": "ed67742f-dba0-442b-ff2a-5a6225f9117b"
   },
   "outputs": [
    {
     "name": "stdout",
     "output_type": "stream",
     "text": [
      "_________________________________________________________________\n",
      "Layer (type)                 Output Shape              Param #   \n",
      "=================================================================\n",
      "dense_1 (Dense)              (None, 12)                108       \n",
      "_________________________________________________________________\n",
      "dense_2 (Dense)              (None, 8)                 104       \n",
      "_________________________________________________________________\n",
      "dense_3 (Dense)              (None, 1)                 9         \n",
      "=================================================================\n",
      "Total params: 221\n",
      "Trainable params: 221\n",
      "Non-trainable params: 0\n",
      "_________________________________________________________________\n"
     ]
    }
   ],
   "source": [
    "model.summary()"
   ]
  },
  {
   "cell_type": "code",
   "execution_count": 0,
   "metadata": {
    "colab": {},
    "colab_type": "code",
    "id": "0CFuHOzlB_sZ"
   },
   "outputs": [],
   "source": [
    "param_grid = {\n",
    "    'alpha': [1e-4],\n",
    "              #, 1e-3, 1e-2, 1e-1, 1e0, 1e1, 1e2, 1e3], # learning rate\n",
    "    'loss': ['hinge'],\n",
    "}"
   ]
  },
  {
   "cell_type": "code",
   "execution_count": 0,
   "metadata": {
    "colab": {},
    "colab_type": "code",
    "id": "VJQX7vFRCBn8"
   },
   "outputs": [],
   "source": [
    "sgd = SGDClassifier(verbose=100,max_iter=100)\n",
    "sgd_cv= GridSearchCV(sgd,param_grid,cv=5,verbose=100)\n",
    "sgd_cv.fit(X_train,y_train)"
   ]
  },
  {
   "cell_type": "code",
   "execution_count": 0,
   "metadata": {
    "colab": {},
    "colab_type": "code",
    "id": "jzGb80Ljob-V"
   },
   "outputs": [],
   "source": [
    "sgd_cv.best_score_"
   ]
  },
  {
   "cell_type": "code",
   "execution_count": 0,
   "metadata": {
    "colab": {},
    "colab_type": "code",
    "id": "cvTD2YPmsbA3"
   },
   "outputs": [],
   "source": [
    "sgd_cv.score(X_test, y_test)"
   ]
  },
  {
   "cell_type": "code",
   "execution_count": 0,
   "metadata": {
    "colab": {},
    "colab_type": "code",
    "id": "h-9u5CmFqpoW"
   },
   "outputs": [],
   "source": [
    "sgd_log = SGDClassifier(verbose=100, loss='log')\n",
    "sgd_log.fit(X_train,y_train)"
   ]
  },
  {
   "cell_type": "code",
   "execution_count": 0,
   "metadata": {
    "colab": {},
    "colab_type": "code",
    "id": "W0F4VlgCu3s7"
   },
   "outputs": [],
   "source": []
  },
  {
   "cell_type": "markdown",
   "metadata": {
    "colab_type": "text",
    "id": "Fl1zHEo13X_V"
   },
   "source": [
    "saving our model down"
   ]
  },
  {
   "cell_type": "code",
   "execution_count": 0,
   "metadata": {
    "colab": {},
    "colab_type": "code",
    "id": "WvC9K8hN3ZmP"
   },
   "outputs": [],
   "source": [
    "import pickle\n",
    "pickle.dumps(sgd_cv)"
   ]
  }
 ],
 "metadata": {
  "accelerator": "TPU",
  "colab": {
   "collapsed_sections": [],
   "name": "safety.ipynb",
   "provenance": [],
   "version": "0.3.2"
  },
  "kernelspec": {
   "display_name": "Python 3",
   "language": "python",
   "name": "python3"
  },
  "language_info": {
   "codemirror_mode": {
    "name": "ipython",
    "version": 3
   },
   "file_extension": ".py",
   "mimetype": "text/x-python",
   "name": "python",
   "nbconvert_exporter": "python",
   "pygments_lexer": "ipython3",
   "version": "3.7.3"
  }
 },
 "nbformat": 4,
 "nbformat_minor": 1
}
