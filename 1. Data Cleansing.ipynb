{
 "cells": [
  {
   "cell_type": "code",
   "execution_count": 1,
   "metadata": {},
   "outputs": [],
   "source": [
    "import numpy as np\n",
    "import pandas as pd\n",
    "import matplotlib.pyplot as plt\n",
    "import math"
   ]
  },
  {
   "cell_type": "code",
   "execution_count": 2,
   "metadata": {},
   "outputs": [],
   "source": [
    "data_features = pd.DataFrame()\n",
    "for i in range(10):\n",
    "    filename = \"./safety/features/part-0000\"+str(i)+\"-e6120af0-10c2-4248-97c4-81baf4304e5c-c000.csv\"\n",
    "    temp_data_features = pd.read_csv(filename, header=0)\n",
    "    data_features = data_features.append(temp_data_features)"
   ]
  },
  {
   "cell_type": "code",
   "execution_count": 12,
   "metadata": {},
   "outputs": [],
   "source": [
    "filename = \"./safety/labels/part-00000-e9445087-aa0a-433b-a7f6-7f4c19d78ad6-c000.csv\"\n",
    "data_labels = pd.read_csv(filename,header=0)"
   ]
  },
  {
   "cell_type": "code",
   "execution_count": 3,
   "metadata": {},
   "outputs": [
    {
     "data": {
      "text/plain": [
       "(16135561, 11)"
      ]
     },
     "execution_count": 3,
     "metadata": {},
     "output_type": "execute_result"
    }
   ],
   "source": [
    "data_features.shape"
   ]
  },
  {
   "cell_type": "code",
   "execution_count": 5,
   "metadata": {},
   "outputs": [
    {
     "name": "stdout",
     "output_type": "stream",
     "text": [
      "<class 'pandas.core.frame.DataFrame'>\n",
      "Int64Index: 16135561 entries, 0 to 1613561\n",
      "Data columns (total 11 columns):\n",
      "bookingID         int64\n",
      "Accuracy          float64\n",
      "Bearing           float64\n",
      "acceleration_x    float64\n",
      "acceleration_y    float64\n",
      "acceleration_z    float64\n",
      "gyro_x            float64\n",
      "gyro_y            float64\n",
      "gyro_z            float64\n",
      "second            float64\n",
      "Speed             float64\n",
      "dtypes: float64(10), int64(1)\n",
      "memory usage: 1.4 GB\n"
     ]
    }
   ],
   "source": [
    "data_features.info()"
   ]
  },
  {
   "cell_type": "markdown",
   "metadata": {},
   "source": [
    "#Check for Duplicates"
   ]
  },
  {
   "cell_type": "code",
   "execution_count": 59,
   "metadata": {},
   "outputs": [],
   "source": [
    "def features_remove_duplicates(df):\n",
    "    df.drop_duplicates()\n",
    "    return df\n",
    "\n",
    "def labels_remove_duplicates(df):\n",
    "    df.drop_duplicates(\"bookingID\", keep=\"last\")"
   ]
  },
  {
   "cell_type": "markdown",
   "metadata": {},
   "source": [
    "##Check for Null/NA"
   ]
  },
  {
   "cell_type": "code",
   "execution_count": 6,
   "metadata": {
    "scrolled": false
   },
   "outputs": [
    {
     "data": {
      "text/html": [
       "<div>\n",
       "<style scoped>\n",
       "    .dataframe tbody tr th:only-of-type {\n",
       "        vertical-align: middle;\n",
       "    }\n",
       "\n",
       "    .dataframe tbody tr th {\n",
       "        vertical-align: top;\n",
       "    }\n",
       "\n",
       "    .dataframe thead th {\n",
       "        text-align: right;\n",
       "    }\n",
       "</style>\n",
       "<table border=\"1\" class=\"dataframe\">\n",
       "  <thead>\n",
       "    <tr style=\"text-align: right;\">\n",
       "      <th></th>\n",
       "      <th>bookingID</th>\n",
       "      <th>Accuracy</th>\n",
       "      <th>Bearing</th>\n",
       "      <th>acceleration_x</th>\n",
       "      <th>acceleration_y</th>\n",
       "      <th>acceleration_z</th>\n",
       "      <th>gyro_x</th>\n",
       "      <th>gyro_y</th>\n",
       "      <th>gyro_z</th>\n",
       "      <th>second</th>\n",
       "      <th>Speed</th>\n",
       "    </tr>\n",
       "  </thead>\n",
       "  <tbody>\n",
       "    <tr>\n",
       "      <th>count</th>\n",
       "      <td>1.613556e+07</td>\n",
       "      <td>1.613556e+07</td>\n",
       "      <td>1.613556e+07</td>\n",
       "      <td>1.613556e+07</td>\n",
       "      <td>1.613556e+07</td>\n",
       "      <td>1.613556e+07</td>\n",
       "      <td>1.613556e+07</td>\n",
       "      <td>1.613556e+07</td>\n",
       "      <td>1.613556e+07</td>\n",
       "      <td>1.613556e+07</td>\n",
       "      <td>1.613556e+07</td>\n",
       "    </tr>\n",
       "    <tr>\n",
       "      <th>mean</th>\n",
       "      <td>8.184819e+11</td>\n",
       "      <td>1.161035e+01</td>\n",
       "      <td>1.689684e+02</td>\n",
       "      <td>6.914529e-02</td>\n",
       "      <td>4.468976e+00</td>\n",
       "      <td>8.942974e-01</td>\n",
       "      <td>-1.710847e-03</td>\n",
       "      <td>2.800733e-04</td>\n",
       "      <td>-2.569688e-04</td>\n",
       "      <td>3.803484e+03</td>\n",
       "      <td>9.006543e+00</td>\n",
       "    </tr>\n",
       "    <tr>\n",
       "      <th>std</th>\n",
       "      <td>4.952476e+11</td>\n",
       "      <td>8.691672e+01</td>\n",
       "      <td>1.072966e+02</td>\n",
       "      <td>1.424161e+00</td>\n",
       "      <td>8.130664e+00</td>\n",
       "      <td>3.251549e+00</td>\n",
       "      <td>1.445619e-01</td>\n",
       "      <td>3.400630e-01</td>\n",
       "      <td>1.480824e-01</td>\n",
       "      <td>1.436686e+06</td>\n",
       "      <td>8.106415e+00</td>\n",
       "    </tr>\n",
       "    <tr>\n",
       "      <th>min</th>\n",
       "      <td>0.000000e+00</td>\n",
       "      <td>7.500000e-01</td>\n",
       "      <td>0.000000e+00</td>\n",
       "      <td>-7.841969e+01</td>\n",
       "      <td>-7.299412e+01</td>\n",
       "      <td>-7.844842e+01</td>\n",
       "      <td>-4.845575e+01</td>\n",
       "      <td>-7.488861e+01</td>\n",
       "      <td>-5.355445e+01</td>\n",
       "      <td>0.000000e+00</td>\n",
       "      <td>-2.000000e+00</td>\n",
       "    </tr>\n",
       "    <tr>\n",
       "      <th>25%</th>\n",
       "      <td>3.779571e+11</td>\n",
       "      <td>3.900000e+00</td>\n",
       "      <td>7.800000e+01</td>\n",
       "      <td>-5.081238e-01</td>\n",
       "      <td>-2.022476e+00</td>\n",
       "      <td>-9.316101e-01</td>\n",
       "      <td>-2.678888e-02</td>\n",
       "      <td>-2.993851e-02</td>\n",
       "      <td>-1.876500e-02</td>\n",
       "      <td>2.410000e+02</td>\n",
       "      <td>1.020000e+00</td>\n",
       "    </tr>\n",
       "    <tr>\n",
       "      <th>50%</th>\n",
       "      <td>8.074539e+11</td>\n",
       "      <td>4.250000e+00</td>\n",
       "      <td>1.688700e+02</td>\n",
       "      <td>6.137085e-02</td>\n",
       "      <td>9.081485e+00</td>\n",
       "      <td>7.757450e-01</td>\n",
       "      <td>-6.432411e-04</td>\n",
       "      <td>2.645046e-04</td>\n",
       "      <td>-3.542004e-05</td>\n",
       "      <td>5.200000e+02</td>\n",
       "      <td>7.530000e+00</td>\n",
       "    </tr>\n",
       "    <tr>\n",
       "      <th>75%</th>\n",
       "      <td>1.254130e+12</td>\n",
       "      <td>8.000000e+00</td>\n",
       "      <td>2.629840e+02</td>\n",
       "      <td>6.350620e-01</td>\n",
       "      <td>9.709778e+00</td>\n",
       "      <td>2.750938e+00</td>\n",
       "      <td>2.330639e-02</td>\n",
       "      <td>3.143085e-02</td>\n",
       "      <td>1.823425e-02</td>\n",
       "      <td>8.630000e+02</td>\n",
       "      <td>1.548000e+01</td>\n",
       "    </tr>\n",
       "    <tr>\n",
       "      <th>max</th>\n",
       "      <td>1.709397e+12</td>\n",
       "      <td>6.070101e+03</td>\n",
       "      <td>3.599995e+02</td>\n",
       "      <td>6.687346e+01</td>\n",
       "      <td>7.505589e+01</td>\n",
       "      <td>7.805576e+01</td>\n",
       "      <td>3.983975e+01</td>\n",
       "      <td>8.031496e+01</td>\n",
       "      <td>6.630078e+01</td>\n",
       "      <td>1.495797e+09</td>\n",
       "      <td>1.480186e+02</td>\n",
       "    </tr>\n",
       "  </tbody>\n",
       "</table>\n",
       "</div>"
      ],
      "text/plain": [
       "          bookingID      Accuracy       Bearing  acceleration_x  \\\n",
       "count  1.613556e+07  1.613556e+07  1.613556e+07    1.613556e+07   \n",
       "mean   8.184819e+11  1.161035e+01  1.689684e+02    6.914529e-02   \n",
       "std    4.952476e+11  8.691672e+01  1.072966e+02    1.424161e+00   \n",
       "min    0.000000e+00  7.500000e-01  0.000000e+00   -7.841969e+01   \n",
       "25%    3.779571e+11  3.900000e+00  7.800000e+01   -5.081238e-01   \n",
       "50%    8.074539e+11  4.250000e+00  1.688700e+02    6.137085e-02   \n",
       "75%    1.254130e+12  8.000000e+00  2.629840e+02    6.350620e-01   \n",
       "max    1.709397e+12  6.070101e+03  3.599995e+02    6.687346e+01   \n",
       "\n",
       "       acceleration_y  acceleration_z        gyro_x        gyro_y  \\\n",
       "count    1.613556e+07    1.613556e+07  1.613556e+07  1.613556e+07   \n",
       "mean     4.468976e+00    8.942974e-01 -1.710847e-03  2.800733e-04   \n",
       "std      8.130664e+00    3.251549e+00  1.445619e-01  3.400630e-01   \n",
       "min     -7.299412e+01   -7.844842e+01 -4.845575e+01 -7.488861e+01   \n",
       "25%     -2.022476e+00   -9.316101e-01 -2.678888e-02 -2.993851e-02   \n",
       "50%      9.081485e+00    7.757450e-01 -6.432411e-04  2.645046e-04   \n",
       "75%      9.709778e+00    2.750938e+00  2.330639e-02  3.143085e-02   \n",
       "max      7.505589e+01    7.805576e+01  3.983975e+01  8.031496e+01   \n",
       "\n",
       "             gyro_z        second         Speed  \n",
       "count  1.613556e+07  1.613556e+07  1.613556e+07  \n",
       "mean  -2.569688e-04  3.803484e+03  9.006543e+00  \n",
       "std    1.480824e-01  1.436686e+06  8.106415e+00  \n",
       "min   -5.355445e+01  0.000000e+00 -2.000000e+00  \n",
       "25%   -1.876500e-02  2.410000e+02  1.020000e+00  \n",
       "50%   -3.542004e-05  5.200000e+02  7.530000e+00  \n",
       "75%    1.823425e-02  8.630000e+02  1.548000e+01  \n",
       "max    6.630078e+01  1.495797e+09  1.480186e+02  "
      ]
     },
     "execution_count": 6,
     "metadata": {},
     "output_type": "execute_result"
    }
   ],
   "source": [
    "data_features.describe()"
   ]
  },
  {
   "cell_type": "markdown",
   "metadata": {},
   "source": [
    "# Anomalies in data\n",
    "* GPS Accuracy Max = 6070m\n",
    "* Max Duration = 1.4e9 seconds\n",
    "* Max Speed = 148 m/s = 532 kmh\n"
   ]
  },
  {
   "cell_type": "code",
   "execution_count": 88,
   "metadata": {},
   "outputs": [],
   "source": [
    "def clean_features(df):\n",
    "    #rename to more uniform convention\n",
    "    df.columns = ['bookingID', 'accuracy', 'bearing', \n",
    "                    'acceleration_x', 'acceleration_y', 'acceleration_z',\n",
    "                    'gyro_x', 'gyro_y', 'gyro_z',\n",
    "                    'second','speed']\n",
    "    #remove NAs\n",
    "    df = df.dropna()\n",
    "    df = df.drop_duplicates()\n",
    "    df = df.loc[(df[\"accuracy\"]<20) &\n",
    "                (df[\"second\"]<1e6) &\n",
    "                (df[\"speed\"]>0) &\n",
    "                (df[\"speed\"]<60)]\n",
    "    return df\n",
    "\n",
    "def clean_labels(df):\n",
    "    df = df.dropna()\n",
    "    df = df.drop_duplicates(\"bookingID\", keep=\"last\") #some booking IDs have multiple labels. set them to be dangerous\n",
    "    return df\n",
    "\n",
    "def process_data(features, labels):\n",
    "    temp_features = clean_features(features)\n",
    "    temp_labels = clean_labels(labels)\n",
    "    data_combined = data = pd.merge(temp_features, temp_labels, how=\"inner\",on=\"bookingID\")\n",
    "    data_combined.sort_values([\"bookingID\",\"second\"], inplace=True)\n",
    "    return data_combined\n",
    "\n",
    "data_combined = process_data(data_features, data_labels)"
   ]
  },
  {
   "cell_type": "code",
   "execution_count": 87,
   "metadata": {},
   "outputs": [],
   "source": [
    "data_combined.to_csv(r'./data_combined.csv')"
   ]
  }
 ],
 "metadata": {
  "kernelspec": {
   "display_name": "Python 3",
   "language": "python",
   "name": "python3"
  },
  "language_info": {
   "codemirror_mode": {
    "name": "ipython",
    "version": 3
   },
   "file_extension": ".py",
   "mimetype": "text/x-python",
   "name": "python",
   "nbconvert_exporter": "python",
   "pygments_lexer": "ipython3",
   "version": "3.7.3"
  }
 },
 "nbformat": 4,
 "nbformat_minor": 2
}
